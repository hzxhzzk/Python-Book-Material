{
 "cells": [
  {
   "cell_type": "code",
   "execution_count": 1,
   "metadata": {
    "collapsed": true
   },
   "outputs": [],
   "source": [
    "import pandas as pd\n",
    "from sklearn.cluster import KMeans"
   ]
  },
  {
   "cell_type": "code",
   "execution_count": 2,
   "metadata": {
    "collapsed": true
   },
   "outputs": [],
   "source": [
    "typelabel = {u'肝气郁结证型系数':'A', u'热毒蕴结证型系数':'B', u'冲任失调证型系数':'C', u'气血两虚证型系数':'D', u'脾胃虚弱证型系数':'E', u'肝肾阴虚证型系数':'F'}\n",
    "k=4"
   ]
  },
  {
   "cell_type": "code",
   "execution_count": 3,
   "metadata": {
    "collapsed": false
   },
   "outputs": [
    {
     "data": {
      "text/html": [
       "<div>\n",
       "<table border=\"1\" class=\"dataframe\">\n",
       "  <thead>\n",
       "    <tr style=\"text-align: right;\">\n",
       "      <th></th>\n",
       "      <th>肝气郁结证型系数</th>\n",
       "      <th>热毒蕴结证型系数</th>\n",
       "      <th>冲任失调证型系数</th>\n",
       "      <th>气血两虚证型系数</th>\n",
       "      <th>脾胃虚弱证型系数</th>\n",
       "      <th>肝肾阴虚证型系数</th>\n",
       "      <th>病程阶段</th>\n",
       "      <th>TNM分期</th>\n",
       "      <th>转移部位</th>\n",
       "      <th>确诊后几年发现转移</th>\n",
       "    </tr>\n",
       "  </thead>\n",
       "  <tbody>\n",
       "    <tr>\n",
       "      <th>0</th>\n",
       "      <td>0.056</td>\n",
       "      <td>0.460</td>\n",
       "      <td>0.281</td>\n",
       "      <td>0.352</td>\n",
       "      <td>0.119</td>\n",
       "      <td>0.350</td>\n",
       "      <td>S4</td>\n",
       "      <td>H4</td>\n",
       "      <td>R1</td>\n",
       "      <td>J1</td>\n",
       "    </tr>\n",
       "    <tr>\n",
       "      <th>1</th>\n",
       "      <td>0.488</td>\n",
       "      <td>0.099</td>\n",
       "      <td>0.283</td>\n",
       "      <td>0.333</td>\n",
       "      <td>0.116</td>\n",
       "      <td>0.293</td>\n",
       "      <td>S4</td>\n",
       "      <td>H4</td>\n",
       "      <td>R1</td>\n",
       "      <td>J1</td>\n",
       "    </tr>\n",
       "    <tr>\n",
       "      <th>2</th>\n",
       "      <td>0.107</td>\n",
       "      <td>0.008</td>\n",
       "      <td>0.204</td>\n",
       "      <td>0.150</td>\n",
       "      <td>0.032</td>\n",
       "      <td>0.159</td>\n",
       "      <td>S4</td>\n",
       "      <td>H4</td>\n",
       "      <td>R2</td>\n",
       "      <td>J2</td>\n",
       "    </tr>\n",
       "    <tr>\n",
       "      <th>3</th>\n",
       "      <td>0.322</td>\n",
       "      <td>0.208</td>\n",
       "      <td>0.305</td>\n",
       "      <td>0.130</td>\n",
       "      <td>0.184</td>\n",
       "      <td>0.317</td>\n",
       "      <td>S4</td>\n",
       "      <td>H4</td>\n",
       "      <td>R2</td>\n",
       "      <td>J1</td>\n",
       "    </tr>\n",
       "    <tr>\n",
       "      <th>4</th>\n",
       "      <td>0.242</td>\n",
       "      <td>0.280</td>\n",
       "      <td>0.131</td>\n",
       "      <td>0.210</td>\n",
       "      <td>0.191</td>\n",
       "      <td>0.351</td>\n",
       "      <td>S4</td>\n",
       "      <td>H4</td>\n",
       "      <td>R2R5</td>\n",
       "      <td>J1</td>\n",
       "    </tr>\n",
       "  </tbody>\n",
       "</table>\n",
       "</div>"
      ],
      "text/plain": [
       "   肝气郁结证型系数  热毒蕴结证型系数  冲任失调证型系数  气血两虚证型系数  脾胃虚弱证型系数  肝肾阴虚证型系数 病程阶段 TNM分期  \\\n",
       "0     0.056     0.460     0.281     0.352     0.119     0.350   S4    H4   \n",
       "1     0.488     0.099     0.283     0.333     0.116     0.293   S4    H4   \n",
       "2     0.107     0.008     0.204     0.150     0.032     0.159   S4    H4   \n",
       "3     0.322     0.208     0.305     0.130     0.184     0.317   S4    H4   \n",
       "4     0.242     0.280     0.131     0.210     0.191     0.351   S4    H4   \n",
       "\n",
       "   转移部位 确诊后几年发现转移  \n",
       "0    R1        J1  \n",
       "1    R1        J1  \n",
       "2    R2        J2  \n",
       "3    R2        J1  \n",
       "4  R2R5        J1  "
      ]
     },
     "execution_count": 3,
     "metadata": {},
     "output_type": "execute_result"
    }
   ],
   "source": [
    "data = pd.read_excel('data/data.xls')\n",
    "data.head()"
   ]
  },
  {
   "cell_type": "code",
   "execution_count": 5,
   "metadata": {
    "collapsed": true
   },
   "outputs": [],
   "source": [
    "keys = list(typelabel.keys())\n",
    "result = pd.DataFrame()"
   ]
  },
  {
   "cell_type": "code",
   "execution_count": 9,
   "metadata": {
    "collapsed": false
   },
   "outputs": [
    {
     "name": "stdout",
     "output_type": "stream",
     "text": [
      "正在进行“肝肾阴虚证型系数”的聚类。。。\n"
     ]
    },
    {
     "name": "stderr",
     "output_type": "stream",
     "text": [
      "E:\\Anaconda\\lib\\site-packages\\ipykernel\\__main__.py:12: FutureWarning: sort(columns=....) is deprecated, use sort_values(by=.....)\n",
      "E:\\Anaconda\\lib\\site-packages\\ipykernel\\__main__.py:15: FutureWarning: pd.rolling_mean is deprecated for Series and will be removed in a future version, replace with \n",
      "\tSeries.rolling(center=False,window=2).mean()\n",
      "E:\\Anaconda\\lib\\site-packages\\ipykernel\\__main__.py:16: SettingWithCopyWarning: \n",
      "A value is trying to be set on a copy of a slice from a DataFrame\n",
      "\n",
      "See the caveats in the documentation: http://pandas.pydata.org/pandas-docs/stable/indexing.html#indexing-view-versus-copy\n"
     ]
    },
    {
     "name": "stdout",
     "output_type": "stream",
     "text": [
      "正在进行“热毒蕴结证型系数”的聚类。。。\n",
      "正在进行“脾胃虚弱证型系数”的聚类。。。\n",
      "正在进行“肝气郁结证型系数”的聚类。。。\n",
      "正在进行“气血两虚证型系数”的聚类。。。\n",
      "正在进行“冲任失调证型系数”的聚类。。。\n"
     ]
    },
    {
     "name": "stderr",
     "output_type": "stream",
     "text": [
      "E:\\Anaconda\\lib\\site-packages\\ipykernel\\__main__.py:19: FutureWarning: sort(....) is deprecated, use sort_index(.....)\n"
     ]
    }
   ],
   "source": [
    "if __name__ == '__main__':\n",
    "    for i in range(len(keys)):\n",
    "        print(u'正在进行“%s”的聚类。。。' % keys[i])\n",
    "        kmodel = KMeans(n_clusters=k, n_jobs=4)\n",
    "        kmodel.fit(data[[keys[i]]].as_matrix())\n",
    "        \n",
    "        r1 = pd.DataFrame(kmodel.cluster_centers_, columns=[typelabel[keys[i]]])\n",
    "        \n",
    "        r2 = pd.Series(kmodel.labels_).value_counts()\n",
    "        r2 = pd.DataFrame(r2, columns=[typelabel[keys[i]] + 'n'])\n",
    "        \n",
    "        r = pd.concat([r1, r2], axis=1).sort(typelabel[keys[i]])\n",
    "        r.index = [1,2,3,4]\n",
    "        \n",
    "        r[typelabel[keys[i]]] = pd.rolling_mean(r[typelabel[keys[i]]], 2)      # 计算相邻两列均值\n",
    "        r[typelabel[keys[i]]][1] = 0.0\n",
    "        result = result.append(r.T)\n",
    "        \n",
    "result = result.sort()\n",
    "result.to_excel('data_processed.xls')\n",
    "        "
   ]
  },
  {
   "cell_type": "code",
   "execution_count": 10,
   "metadata": {
    "collapsed": false
   },
   "outputs": [
    {
     "data": {
      "text/plain": [
       "['肝肾阴虚证型系数', '热毒蕴结证型系数', '脾胃虚弱证型系数', '肝气郁结证型系数', '气血两虚证型系数', '冲任失调证型系数']"
      ]
     },
     "execution_count": 10,
     "metadata": {},
     "output_type": "execute_result"
    }
   ],
   "source": [
    "keys"
   ]
  },
  {
   "cell_type": "code",
   "execution_count": null,
   "metadata": {
    "collapsed": true
   },
   "outputs": [],
   "source": []
  }
 ],
 "metadata": {
  "anaconda-cloud": {},
  "kernelspec": {
   "display_name": "Python [conda root]",
   "language": "python",
   "name": "conda-root-py"
  },
  "language_info": {
   "codemirror_mode": {
    "name": "ipython",
    "version": 3
   },
   "file_extension": ".py",
   "mimetype": "text/x-python",
   "name": "python",
   "nbconvert_exporter": "python",
   "pygments_lexer": "ipython3",
   "version": "3.5.2"
  }
 },
 "nbformat": 4,
 "nbformat_minor": 1
}
