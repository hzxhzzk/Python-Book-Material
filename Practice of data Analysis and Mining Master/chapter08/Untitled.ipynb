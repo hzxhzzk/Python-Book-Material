{
 "cells": [
  {
   "cell_type": "code",
   "execution_count": 32,
   "metadata": {
    "collapsed": true
   },
   "outputs": [],
   "source": [
    "import pandas as pd\n",
    "from apriori import *\n",
    "import time"
   ]
  },
  {
   "cell_type": "code",
   "execution_count": 33,
   "metadata": {
    "collapsed": true
   },
   "outputs": [],
   "source": [
    "data = pd.read_csv('data/apriori.txt', header=None, dtype=object)"
   ]
  },
  {
   "cell_type": "code",
   "execution_count": 34,
   "metadata": {
    "collapsed": false
   },
   "outputs": [
    {
     "name": "stdout",
     "output_type": "stream",
     "text": [
      "\n",
      " 转换数据至0-1矩阵...\n",
      "转换完毕，用时0.28秒\n",
      "\n",
      "开始搜索关联规则\n",
      "\n",
      "正在进行第1次搜索...\n",
      "数目：276...\n",
      "\n",
      "正在进行第2次搜索...\n",
      "数目：947...\n",
      "\n",
      "正在进行第3次搜索...\n",
      "数目：41...\n",
      "\n",
      "结果为：\n",
      "                    support  confidence\n",
      "A3---F4---H4       0.078495    0.879518\n",
      "C3---F4---H4       0.075269    0.875000\n",
      "B2---F4---H4       0.062366    0.794521\n",
      "C2---E3---D2       0.092473    0.754386\n",
      "D2---F3---H4---A2  0.062366    0.753247\n",
      "\n",
      "搜索完成，用时：1.36秒\n"
     ]
    },
    {
     "name": "stderr",
     "output_type": "stream",
     "text": [
      "F:\\python_project\\practice_of_data_analysis_and_mining\\chapter08\\apriori.py:54: FutureWarning: sort(columns=....) is deprecated, use sort_values(by=.....)\n",
      "  result = result.T.sort(['confidence','support'], ascending = False) #结果整理，输出\n"
     ]
    }
   ],
   "source": [
    "start = time.clock()\n",
    "print(u'\\n 转换数据至0-1矩阵...')\n",
    "ct = lambda x: pd.Series(1, index=x[pd.notnull(x)])\n",
    "b = list(map(ct, data.as_matrix()))\n",
    "data = pd.DataFrame(b).fillna(0)\n",
    "end = time.clock()\n",
    "print(u'转换完毕，用时%0.2f秒' % (end-start))\n",
    "del b\n",
    "support = 0.06\n",
    "confidence = 0.75\n",
    "ms = '---'\n",
    "start = time.clock()\n",
    "print(u'\\n开始搜索关联规则')\n",
    "find_rule(data, support, confidence, ms)\n",
    "end = time.clock()\n",
    "print(u'\\n搜索完成，用时：%0.2f秒' % (end- start))"
   ]
  },
  {
   "cell_type": "code",
   "execution_count": null,
   "metadata": {
    "collapsed": false
   },
   "outputs": [],
   "source": []
  }
 ],
 "metadata": {
  "anaconda-cloud": {},
  "kernelspec": {
   "display_name": "Python [conda root]",
   "language": "python",
   "name": "conda-root-py"
  },
  "language_info": {
   "codemirror_mode": {
    "name": "ipython",
    "version": 3
   },
   "file_extension": ".py",
   "mimetype": "text/x-python",
   "name": "python",
   "nbconvert_exporter": "python",
   "pygments_lexer": "ipython3",
   "version": "3.5.2"
  }
 },
 "nbformat": 4,
 "nbformat_minor": 1
}
