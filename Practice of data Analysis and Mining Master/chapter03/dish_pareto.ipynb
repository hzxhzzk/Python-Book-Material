{
 "cells": [
  {
   "cell_type": "markdown",
   "metadata": {},
   "source": [
    "## 绘制菜品盈利的帕累托图"
   ]
  },
  {
   "cell_type": "code",
   "execution_count": 86,
   "metadata": {
    "collapsed": true
   },
   "outputs": [],
   "source": [
    "import pandas as pd\n",
    "import matplotlib.pyplot as plt"
   ]
  },
  {
   "cell_type": "code",
   "execution_count": 87,
   "metadata": {
    "collapsed": false
   },
   "outputs": [
    {
     "data": {
      "text/html": [
       "<div>\n",
       "<table border=\"1\" class=\"dataframe\">\n",
       "  <thead>\n",
       "    <tr style=\"text-align: right;\">\n",
       "      <th></th>\n",
       "      <th>菜品ID</th>\n",
       "      <th>盈利</th>\n",
       "    </tr>\n",
       "    <tr>\n",
       "      <th>菜品名</th>\n",
       "      <th></th>\n",
       "      <th></th>\n",
       "    </tr>\n",
       "  </thead>\n",
       "  <tbody>\n",
       "    <tr>\n",
       "      <th>A1</th>\n",
       "      <td>17148</td>\n",
       "      <td>9173</td>\n",
       "    </tr>\n",
       "    <tr>\n",
       "      <th>A2</th>\n",
       "      <td>17154</td>\n",
       "      <td>5729</td>\n",
       "    </tr>\n",
       "    <tr>\n",
       "      <th>A3</th>\n",
       "      <td>109</td>\n",
       "      <td>4811</td>\n",
       "    </tr>\n",
       "    <tr>\n",
       "      <th>A4</th>\n",
       "      <td>117</td>\n",
       "      <td>3594</td>\n",
       "    </tr>\n",
       "    <tr>\n",
       "      <th>A5</th>\n",
       "      <td>17151</td>\n",
       "      <td>3195</td>\n",
       "    </tr>\n",
       "  </tbody>\n",
       "</table>\n",
       "</div>"
      ],
      "text/plain": [
       "      菜品ID    盈利\n",
       "菜品名             \n",
       "A1   17148  9173\n",
       "A2   17154  5729\n",
       "A3     109  4811\n",
       "A4     117  3594\n",
       "A5   17151  3195"
      ]
     },
     "execution_count": 87,
     "metadata": {},
     "output_type": "execute_result"
    }
   ],
   "source": [
    "data = pd.read_excel('data/catering_dish_profit.xls', index_col=u'菜品名')\n",
    "data.head()"
   ]
  },
  {
   "cell_type": "code",
   "execution_count": 88,
   "metadata": {
    "collapsed": false
   },
   "outputs": [
    {
     "data": {
      "text/plain": [
       "菜品名\n",
       "A1     9173\n",
       "A2     5729\n",
       "A3     4811\n",
       "A4     3594\n",
       "A5     3195\n",
       "A6     3026\n",
       "A7     2378\n",
       "A8     1970\n",
       "A9     1877\n",
       "A10    1782\n",
       "Name: 盈利, dtype: int64"
      ]
     },
     "execution_count": 88,
     "metadata": {},
     "output_type": "execute_result"
    }
   ],
   "source": [
    "newdata = data[u'盈利'].copy()\n",
    "newdata.sort_values(ascending=False)"
   ]
  },
  {
   "cell_type": "code",
   "execution_count": 103,
   "metadata": {
    "collapsed": false
   },
   "outputs": [
    {
     "data": {
      "image/png": "[encoded data removed]",
      "text/plain": [
       "<matplotlib.figure.Figure at 0x1e5f3ca1f98>"
      ]
     },
     "metadata": {},
     "output_type": "display_data"
    }
   ],
   "source": [
    "plt.rcParams['font.sans-serif']=['SimHei'] #用来正常显示中文标签\n",
    "plt.rcParams['axes.unicode_minus']=False #用来正常显示负号\n",
    "plt.figure()\n",
    "newdata.plot(kind='bar')\n",
    "plt.ylabel(u'盈利（元）')\n",
    "p = 1.0 * newdata.cumsum()/newdata.sum()\n",
    "p.plot(color = 'r', secondary_y=True, style='-o', linewidth=2)\n",
    "plt.show()"
   ]
  },
  {
   "cell_type": "markdown",
   "metadata": {},
   "source": [
    "## 相关系数分析"
   ]
  },
  {
   "cell_type": "code",
   "execution_count": 104,
   "metadata": {
    "collapsed": true
   },
   "outputs": [],
   "source": [
    "cor_data = pd.read_excel('data/catering_sale_all.xls', index_col=u'日期')"
   ]
  },
  {
   "cell_type": "code",
   "execution_count": 105,
   "metadata": {
    "collapsed": false
   },
   "outputs": [
    {
     "data": {
      "text/html": [
       "<div>\n",
       "<table border=\"1\" class=\"dataframe\">\n",
       "  <thead>\n",
       "    <tr style=\"text-align: right;\">\n",
       "      <th></th>\n",
       "      <th>百合酱蒸凤爪</th>\n",
       "      <th>翡翠蒸香茜饺</th>\n",
       "      <th>金银蒜汁蒸排骨</th>\n",
       "      <th>乐膳真味鸡</th>\n",
       "      <th>蜜汁焗餐包</th>\n",
       "      <th>生炒菜心</th>\n",
       "      <th>铁板酸菜豆腐</th>\n",
       "      <th>香煎韭菜饺</th>\n",
       "      <th>香煎罗卜糕</th>\n",
       "      <th>原汁原味菜心</th>\n",
       "    </tr>\n",
       "    <tr>\n",
       "      <th>日期</th>\n",
       "      <th></th>\n",
       "      <th></th>\n",
       "      <th></th>\n",
       "      <th></th>\n",
       "      <th></th>\n",
       "      <th></th>\n",
       "      <th></th>\n",
       "      <th></th>\n",
       "      <th></th>\n",
       "      <th></th>\n",
       "    </tr>\n",
       "  </thead>\n",
       "  <tbody>\n",
       "    <tr>\n",
       "      <th>2015-01-01</th>\n",
       "      <td>17</td>\n",
       "      <td>6</td>\n",
       "      <td>8</td>\n",
       "      <td>24</td>\n",
       "      <td>13.0</td>\n",
       "      <td>13</td>\n",
       "      <td>18</td>\n",
       "      <td>10</td>\n",
       "      <td>10</td>\n",
       "      <td>27</td>\n",
       "    </tr>\n",
       "    <tr>\n",
       "      <th>2015-01-02</th>\n",
       "      <td>11</td>\n",
       "      <td>15</td>\n",
       "      <td>14</td>\n",
       "      <td>13</td>\n",
       "      <td>9.0</td>\n",
       "      <td>10</td>\n",
       "      <td>19</td>\n",
       "      <td>13</td>\n",
       "      <td>14</td>\n",
       "      <td>13</td>\n",
       "    </tr>\n",
       "    <tr>\n",
       "      <th>2015-01-03</th>\n",
       "      <td>10</td>\n",
       "      <td>8</td>\n",
       "      <td>12</td>\n",
       "      <td>13</td>\n",
       "      <td>8.0</td>\n",
       "      <td>3</td>\n",
       "      <td>7</td>\n",
       "      <td>11</td>\n",
       "      <td>10</td>\n",
       "      <td>9</td>\n",
       "    </tr>\n",
       "    <tr>\n",
       "      <th>2015-01-04</th>\n",
       "      <td>9</td>\n",
       "      <td>6</td>\n",
       "      <td>6</td>\n",
       "      <td>3</td>\n",
       "      <td>10.0</td>\n",
       "      <td>9</td>\n",
       "      <td>9</td>\n",
       "      <td>13</td>\n",
       "      <td>14</td>\n",
       "      <td>13</td>\n",
       "    </tr>\n",
       "    <tr>\n",
       "      <th>2015-01-05</th>\n",
       "      <td>4</td>\n",
       "      <td>10</td>\n",
       "      <td>13</td>\n",
       "      <td>8</td>\n",
       "      <td>12.0</td>\n",
       "      <td>10</td>\n",
       "      <td>17</td>\n",
       "      <td>11</td>\n",
       "      <td>13</td>\n",
       "      <td>14</td>\n",
       "    </tr>\n",
       "  </tbody>\n",
       "</table>\n",
       "</div>"
      ],
      "text/plain": [
       "            百合酱蒸凤爪  翡翠蒸香茜饺  金银蒜汁蒸排骨  乐膳真味鸡  蜜汁焗餐包  生炒菜心  铁板酸菜豆腐  香煎韭菜饺  香煎罗卜糕  \\\n",
       "日期                                                                              \n",
       "2015-01-01      17       6        8     24   13.0    13      18     10     10   \n",
       "2015-01-02      11      15       14     13    9.0    10      19     13     14   \n",
       "2015-01-03      10       8       12     13    8.0     3       7     11     10   \n",
       "2015-01-04       9       6        6      3   10.0     9       9     13     14   \n",
       "2015-01-05       4      10       13      8   12.0    10      17     11     13   \n",
       "\n",
       "            原汁原味菜心  \n",
       "日期                  \n",
       "2015-01-01      27  \n",
       "2015-01-02      13  \n",
       "2015-01-03       9  \n",
       "2015-01-04      13  \n",
       "2015-01-05      14  "
      ]
     },
     "execution_count": 105,
     "metadata": {},
     "output_type": "execute_result"
    }
   ],
   "source": [
    "cor_data.head()"
   ]
  },
  {
   "cell_type": "code",
   "execution_count": 107,
   "metadata": {
    "collapsed": false
   },
   "outputs": [
    {
     "data": {
      "text/html": [
       "<div>\n",
       "<table border=\"1\" class=\"dataframe\">\n",
       "  <thead>\n",
       "    <tr style=\"text-align: right;\">\n",
       "      <th></th>\n",
       "      <th>百合酱蒸凤爪</th>\n",
       "      <th>翡翠蒸香茜饺</th>\n",
       "      <th>金银蒜汁蒸排骨</th>\n",
       "      <th>乐膳真味鸡</th>\n",
       "      <th>蜜汁焗餐包</th>\n",
       "      <th>生炒菜心</th>\n",
       "      <th>铁板酸菜豆腐</th>\n",
       "      <th>香煎韭菜饺</th>\n",
       "      <th>香煎罗卜糕</th>\n",
       "      <th>原汁原味菜心</th>\n",
       "    </tr>\n",
       "  </thead>\n",
       "  <tbody>\n",
       "    <tr>\n",
       "      <th>百合酱蒸凤爪</th>\n",
       "      <td>1.000000</td>\n",
       "      <td>0.009206</td>\n",
       "      <td>0.016799</td>\n",
       "      <td>0.455638</td>\n",
       "      <td>0.098085</td>\n",
       "      <td>0.308496</td>\n",
       "      <td>0.204898</td>\n",
       "      <td>0.127448</td>\n",
       "      <td>-0.090276</td>\n",
       "      <td>0.428316</td>\n",
       "    </tr>\n",
       "    <tr>\n",
       "      <th>翡翠蒸香茜饺</th>\n",
       "      <td>0.009206</td>\n",
       "      <td>1.000000</td>\n",
       "      <td>0.304434</td>\n",
       "      <td>-0.012279</td>\n",
       "      <td>0.058745</td>\n",
       "      <td>-0.180446</td>\n",
       "      <td>-0.026908</td>\n",
       "      <td>0.062344</td>\n",
       "      <td>0.270276</td>\n",
       "      <td>0.020462</td>\n",
       "    </tr>\n",
       "    <tr>\n",
       "      <th>金银蒜汁蒸排骨</th>\n",
       "      <td>0.016799</td>\n",
       "      <td>0.304434</td>\n",
       "      <td>1.000000</td>\n",
       "      <td>0.035135</td>\n",
       "      <td>0.096218</td>\n",
       "      <td>-0.184290</td>\n",
       "      <td>0.187272</td>\n",
       "      <td>0.121543</td>\n",
       "      <td>0.077808</td>\n",
       "      <td>0.029074</td>\n",
       "    </tr>\n",
       "    <tr>\n",
       "      <th>乐膳真味鸡</th>\n",
       "      <td>0.455638</td>\n",
       "      <td>-0.012279</td>\n",
       "      <td>0.035135</td>\n",
       "      <td>1.000000</td>\n",
       "      <td>0.016006</td>\n",
       "      <td>0.325462</td>\n",
       "      <td>0.297692</td>\n",
       "      <td>-0.068866</td>\n",
       "      <td>-0.030222</td>\n",
       "      <td>0.421878</td>\n",
       "    </tr>\n",
       "    <tr>\n",
       "      <th>蜜汁焗餐包</th>\n",
       "      <td>0.098085</td>\n",
       "      <td>0.058745</td>\n",
       "      <td>0.096218</td>\n",
       "      <td>0.016006</td>\n",
       "      <td>1.000000</td>\n",
       "      <td>0.308454</td>\n",
       "      <td>0.502025</td>\n",
       "      <td>0.155428</td>\n",
       "      <td>0.171005</td>\n",
       "      <td>0.527844</td>\n",
       "    </tr>\n",
       "    <tr>\n",
       "      <th>生炒菜心</th>\n",
       "      <td>0.308496</td>\n",
       "      <td>-0.180446</td>\n",
       "      <td>-0.184290</td>\n",
       "      <td>0.325462</td>\n",
       "      <td>0.308454</td>\n",
       "      <td>1.000000</td>\n",
       "      <td>0.369787</td>\n",
       "      <td>0.038233</td>\n",
       "      <td>0.049898</td>\n",
       "      <td>0.122988</td>\n",
       "    </tr>\n",
       "    <tr>\n",
       "      <th>铁板酸菜豆腐</th>\n",
       "      <td>0.204898</td>\n",
       "      <td>-0.026908</td>\n",
       "      <td>0.187272</td>\n",
       "      <td>0.297692</td>\n",
       "      <td>0.502025</td>\n",
       "      <td>0.369787</td>\n",
       "      <td>1.000000</td>\n",
       "      <td>0.095543</td>\n",
       "      <td>0.157958</td>\n",
       "      <td>0.567332</td>\n",
       "    </tr>\n",
       "    <tr>\n",
       "      <th>香煎韭菜饺</th>\n",
       "      <td>0.127448</td>\n",
       "      <td>0.062344</td>\n",
       "      <td>0.121543</td>\n",
       "      <td>-0.068866</td>\n",
       "      <td>0.155428</td>\n",
       "      <td>0.038233</td>\n",
       "      <td>0.095543</td>\n",
       "      <td>1.000000</td>\n",
       "      <td>0.178336</td>\n",
       "      <td>0.049689</td>\n",
       "    </tr>\n",
       "    <tr>\n",
       "      <th>香煎罗卜糕</th>\n",
       "      <td>-0.090276</td>\n",
       "      <td>0.270276</td>\n",
       "      <td>0.077808</td>\n",
       "      <td>-0.030222</td>\n",
       "      <td>0.171005</td>\n",
       "      <td>0.049898</td>\n",
       "      <td>0.157958</td>\n",
       "      <td>0.178336</td>\n",
       "      <td>1.000000</td>\n",
       "      <td>0.088980</td>\n",
       "    </tr>\n",
       "    <tr>\n",
       "      <th>原汁原味菜心</th>\n",
       "      <td>0.428316</td>\n",
       "      <td>0.020462</td>\n",
       "      <td>0.029074</td>\n",
       "      <td>0.421878</td>\n",
       "      <td>0.527844</td>\n",
       "      <td>0.122988</td>\n",
       "      <td>0.567332</td>\n",
       "      <td>0.049689</td>\n",
       "      <td>0.088980</td>\n",
       "      <td>1.000000</td>\n",
       "    </tr>\n",
       "  </tbody>\n",
       "</table>\n",
       "</div>"
      ],
      "text/plain": [
       "           百合酱蒸凤爪    翡翠蒸香茜饺   金银蒜汁蒸排骨     乐膳真味鸡     蜜汁焗餐包      生炒菜心    铁板酸菜豆腐  \\\n",
       "百合酱蒸凤爪   1.000000  0.009206  0.016799  0.455638  0.098085  0.308496  0.204898   \n",
       "翡翠蒸香茜饺   0.009206  1.000000  0.304434 -0.012279  0.058745 -0.180446 -0.026908   \n",
       "金银蒜汁蒸排骨  0.016799  0.304434  1.000000  0.035135  0.096218 -0.184290  0.187272   \n",
       "乐膳真味鸡    0.455638 -0.012279  0.035135  1.000000  0.016006  0.325462  0.297692   \n",
       "蜜汁焗餐包    0.098085  0.058745  0.096218  0.016006  1.000000  0.308454  0.502025   \n",
       "生炒菜心     0.308496 -0.180446 -0.184290  0.325462  0.308454  1.000000  0.369787   \n",
       "铁板酸菜豆腐   0.204898 -0.026908  0.187272  0.297692  0.502025  0.369787  1.000000   \n",
       "香煎韭菜饺    0.127448  0.062344  0.121543 -0.068866  0.155428  0.038233  0.095543   \n",
       "香煎罗卜糕   -0.090276  0.270276  0.077808 -0.030222  0.171005  0.049898  0.157958   \n",
       "原汁原味菜心   0.428316  0.020462  0.029074  0.421878  0.527844  0.122988  0.567332   \n",
       "\n",
       "            香煎韭菜饺     香煎罗卜糕    原汁原味菜心  \n",
       "百合酱蒸凤爪   0.127448 -0.090276  0.428316  \n",
       "翡翠蒸香茜饺   0.062344  0.270276  0.020462  \n",
       "金银蒜汁蒸排骨  0.121543  0.077808  0.029074  \n",
       "乐膳真味鸡   -0.068866 -0.030222  0.421878  \n",
       "蜜汁焗餐包    0.155428  0.171005  0.527844  \n",
       "生炒菜心     0.038233  0.049898  0.122988  \n",
       "铁板酸菜豆腐   0.095543  0.157958  0.567332  \n",
       "香煎韭菜饺    1.000000  0.178336  0.049689  \n",
       "香煎罗卜糕    0.178336  1.000000  0.088980  \n",
       "原汁原味菜心   0.049689  0.088980  1.000000  "
      ]
     },
     "execution_count": 107,
     "metadata": {},
     "output_type": "execute_result"
    }
   ],
   "source": [
    "cor_data.corr()"
   ]
  },
  {
   "cell_type": "code",
   "execution_count": 108,
   "metadata": {
    "collapsed": false
   },
   "outputs": [
    {
     "data": {
      "text/plain": [
       "百合酱蒸凤爪     1.000000\n",
       "翡翠蒸香茜饺     0.009206\n",
       "金银蒜汁蒸排骨    0.016799\n",
       "乐膳真味鸡      0.455638\n",
       "蜜汁焗餐包      0.098085\n",
       "生炒菜心       0.308496\n",
       "铁板酸菜豆腐     0.204898\n",
       "香煎韭菜饺      0.127448\n",
       "香煎罗卜糕     -0.090276\n",
       "原汁原味菜心     0.428316\n",
       "Name: 百合酱蒸凤爪, dtype: float64"
      ]
     },
     "execution_count": 108,
     "metadata": {},
     "output_type": "execute_result"
    }
   ],
   "source": [
    "cor_data.corr()[u'百合酱蒸凤爪']"
   ]
  },
  {
   "cell_type": "code",
   "execution_count": 109,
   "metadata": {
    "collapsed": false
   },
   "outputs": [
    {
     "data": {
      "text/plain": [
       "0.0092058030518364815"
      ]
     },
     "execution_count": 109,
     "metadata": {},
     "output_type": "execute_result"
    }
   ],
   "source": [
    "cor_data[u'百合酱蒸凤爪'].corr(cor_data[u'翡翠蒸香茜饺'])"
   ]
  },
  {
   "cell_type": "code",
   "execution_count": null,
   "metadata": {
    "collapsed": true
   },
   "outputs": [],
   "source": []
  }
 ],
 "metadata": {
  "kernelspec": {
   "display_name": "Python [conda root]",
   "language": "python",
   "name": "conda-root-py"
  },
  "language_info": {
   "codemirror_mode": {
    "name": "ipython",
    "version": 3
   },
   "file_extension": ".py",
   "mimetype": "text/x-python",
   "name": "python",
   "nbconvert_exporter": "python",
   "pygments_lexer": "ipython3",
   "version": "3.5.2"
  }
 },
 "nbformat": 4,
 "nbformat_minor": 1
}
