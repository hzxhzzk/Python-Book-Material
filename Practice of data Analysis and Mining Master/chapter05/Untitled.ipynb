{
 "cells": [
  {
   "cell_type": "code",
   "execution_count": 1,
   "metadata": {
    "collapsed": true
   },
   "outputs": [],
   "source": [
    "import pandas as pd"
   ]
  },
  {
   "cell_type": "code",
   "execution_count": 2,
   "metadata": {
    "collapsed": true
   },
   "outputs": [],
   "source": [
    "k = 3\n",
    "iteration = 500"
   ]
  },
  {
   "cell_type": "code",
   "execution_count": 4,
   "metadata": {
    "collapsed": false
   },
   "outputs": [
    {
     "data": {
      "text/html": [
       "<div>\n",
       "<table border=\"1\" class=\"dataframe\">\n",
       "  <thead>\n",
       "    <tr style=\"text-align: right;\">\n",
       "      <th></th>\n",
       "      <th>R</th>\n",
       "      <th>F</th>\n",
       "      <th>M</th>\n",
       "    </tr>\n",
       "    <tr>\n",
       "      <th>Id</th>\n",
       "      <th></th>\n",
       "      <th></th>\n",
       "      <th></th>\n",
       "    </tr>\n",
       "  </thead>\n",
       "  <tbody>\n",
       "    <tr>\n",
       "      <th>1</th>\n",
       "      <td>27</td>\n",
       "      <td>6</td>\n",
       "      <td>232.61</td>\n",
       "    </tr>\n",
       "    <tr>\n",
       "      <th>2</th>\n",
       "      <td>3</td>\n",
       "      <td>5</td>\n",
       "      <td>1507.11</td>\n",
       "    </tr>\n",
       "    <tr>\n",
       "      <th>3</th>\n",
       "      <td>4</td>\n",
       "      <td>16</td>\n",
       "      <td>817.62</td>\n",
       "    </tr>\n",
       "    <tr>\n",
       "      <th>4</th>\n",
       "      <td>3</td>\n",
       "      <td>11</td>\n",
       "      <td>232.81</td>\n",
       "    </tr>\n",
       "    <tr>\n",
       "      <th>5</th>\n",
       "      <td>14</td>\n",
       "      <td>7</td>\n",
       "      <td>1913.05</td>\n",
       "    </tr>\n",
       "  </tbody>\n",
       "</table>\n",
       "</div>"
      ],
      "text/plain": [
       "     R   F        M\n",
       "Id                 \n",
       "1   27   6   232.61\n",
       "2    3   5  1507.11\n",
       "3    4  16   817.62\n",
       "4    3  11   232.81\n",
       "5   14   7  1913.05"
      ]
     },
     "execution_count": 4,
     "metadata": {},
     "output_type": "execute_result"
    }
   ],
   "source": [
    "data = pd.read_excel('data/consumption_data.xls', index_col='Id')\n",
    "data.head()"
   ]
  },
  {
   "cell_type": "code",
   "execution_count": 5,
   "metadata": {
    "collapsed": true
   },
   "outputs": [],
   "source": [
    "data_zs = 1.0*(data - data.mean())/data.std()"
   ]
  },
  {
   "cell_type": "code",
   "execution_count": 6,
   "metadata": {
    "collapsed": true
   },
   "outputs": [],
   "source": [
    "from sklearn.cluster import KMeans"
   ]
  },
  {
   "cell_type": "code",
   "execution_count": 7,
   "metadata": {
    "collapsed": false
   },
   "outputs": [
    {
     "data": {
      "text/plain": [
       "KMeans(algorithm='auto', copy_x=True, init='k-means++', max_iter=500,\n",
       "    n_clusters=3, n_init=10, n_jobs=2, precompute_distances='auto',\n",
       "    random_state=None, tol=0.0001, verbose=0)"
      ]
     },
     "execution_count": 7,
     "metadata": {},
     "output_type": "execute_result"
    }
   ],
   "source": [
    "model = KMeans(n_clusters=k, n_jobs=2, max_iter=iteration)\n",
    "model.fit(data_zs)"
   ]
  },
  {
   "cell_type": "code",
   "execution_count": 8,
   "metadata": {
    "collapsed": false
   },
   "outputs": [
    {
     "name": "stdout",
     "output_type": "stream",
     "text": [
      "          0         1         2    0\n",
      "0 -0.162951  1.116722  0.395575  340\n",
      "1  3.455055 -0.295654  0.449123   40\n",
      "2 -0.147855 -0.656892 -0.272251  560\n"
     ]
    }
   ],
   "source": [
    "r1 = pd.Series(model.labels_).value_counts()\n",
    "r2 = pd.DataFrame(model.cluster_centers_)\n",
    "r = pd.concat([r2, r1], axis=1)\n",
    "print(r)"
   ]
  },
  {
   "cell_type": "code",
   "execution_count": 11,
   "metadata": {
    "collapsed": false
   },
   "outputs": [
    {
     "name": "stdout",
     "output_type": "stream",
     "text": [
      "      R   F        M  聚类类别\n",
      "Id                        \n",
      "1    27   6   232.61     2\n",
      "2     3   5  1507.11     2\n",
      "3     4  16   817.62     0\n",
      "4     3  11   232.81     2\n",
      "5    14   7  1913.05     2\n",
      "6    19   6   220.07     2\n",
      "7     5   2   615.83     2\n",
      "8    26   2  1059.66     2\n",
      "9    21   9   304.82     2\n",
      "10    2  21  1227.96     0\n",
      "11   15   2   521.02     2\n",
      "12   26   3   438.22     2\n",
      "13   17  11  1744.55     0\n",
      "14   30  16  1957.44     0\n",
      "15    5   7  1713.79     2\n",
      "16    4  21  1768.11     0\n",
      "17   93   2  1016.34     1\n",
      "18   16   3   950.36     2\n",
      "19    4   1   754.93     2\n",
      "20   27   1   294.23     2\n",
      "21    5   1   195.30     2\n",
      "22   17   3  1845.34     2\n",
      "23   12  13  1434.29     0\n",
      "24   21   3   275.85     2\n",
      "25   18   5   449.76     2\n",
      "26   30  21  1628.68     0\n",
      "27    4   2  1795.41     2\n",
      "28    7  12  1786.24     0\n",
      "29   18   1   679.44     2\n",
      "30   60   7  5318.81     1\n",
      "..   ..  ..      ...   ...\n",
      "913   9  14  1627.19     0\n",
      "914  11  28  1154.70     0\n",
      "915  17   1    33.58     2\n",
      "916  15   9  1959.64     0\n",
      "917  10  22  1581.14     0\n",
      "918  27   5  1879.82     2\n",
      "919  25   3  1142.40     2\n",
      "920  15   1   174.64     2\n",
      "921   5   2   638.81     2\n",
      "922  19   4  1067.78     2\n",
      "923  14  22  1345.92     0\n",
      "924   6   3  1311.06     2\n",
      "925  26   8   962.62     2\n",
      "926  23   1   285.97     2\n",
      "927  17  17  1651.68     0\n",
      "928  16   3  1503.87     2\n",
      "929   6  13  1506.48     0\n",
      "930  22  24   625.12     0\n",
      "931  28  17  1742.95     0\n",
      "932  17  26  1292.21     0\n",
      "933  16   7  1801.38     2\n",
      "934   1  27  1585.10     0\n",
      "935  17  27  7795.03     0\n",
      "936   2  17  2341.93     0\n",
      "937   1   5  1865.78     2\n",
      "938  19   4  1163.08     2\n",
      "939   9   7  1007.06     2\n",
      "940  27   7  1322.94     2\n",
      "941  30   4   860.41     2\n",
      "942  22   1   776.70     2\n",
      "\n",
      "[940 rows x 4 columns]\n"
     ]
    }
   ],
   "source": [
    "r = pd.concat([data, pd.Series(model.labels_, index=data.index)], axis=1)\n",
    "r.columns = list(data.columns) + [u'聚类类别']\n",
    "print(r)"
   ]
  },
  {
   "cell_type": "code",
   "execution_count": 15,
   "metadata": {
    "collapsed": false
   },
   "outputs": [],
   "source": [
    "def density_plot(data, title):\n",
    "    import matplotlib.pyplot as plt\n",
    "    plt.rcParams['font.sans-serif'] = ['SimHei']\n",
    "    plt.rcParams['axes.unicode_minus'] = False\n",
    "    plt.figure()\n",
    "    for i in range(len(data.iloc[0])):\n",
    "        (data.iloc[:, i]).plot(kind='kde', label = data.columns[i], linewidth = 2)\n",
    "    plt.ylabel(u'密度')\n",
    "    plt.xlabel(u'人数')\n",
    "    plt.title(u'聚类类别%s各属性的密度曲线' % title)\n",
    "    plt.legend()\n",
    "    return plt"
   ]
  },
  {
   "cell_type": "code",
   "execution_count": 14,
   "metadata": {
    "collapsed": false
   },
   "outputs": [
    {
     "data": {
      "text/plain": [
       "R     27.00\n",
       "F      6.00\n",
       "M    232.61\n",
       "Name: 1, dtype: float64"
      ]
     },
     "execution_count": 14,
     "metadata": {},
     "output_type": "execute_result"
    }
   ],
   "source": []
  },
  {
   "cell_type": "code",
   "execution_count": null,
   "metadata": {
    "collapsed": true
   },
   "outputs": [],
   "source": []
  }
 ],
 "metadata": {
  "kernelspec": {
   "display_name": "Python 3",
   "language": "python",
   "name": "python3"
  },
  "language_info": {
   "codemirror_mode": {
    "name": "ipython",
    "version": 3
   },
   "file_extension": ".py",
   "mimetype": "text/x-python",
   "name": "python",
   "nbconvert_exporter": "python",
   "pygments_lexer": "ipython3",
   "version": "3.6.0"
  }
 },
 "nbformat": 4,
 "nbformat_minor": 2
}
